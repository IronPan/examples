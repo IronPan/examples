{
 "cells": [
  {
   "cell_type": "code",
   "execution_count": null,
   "metadata": {},
   "outputs": [],
   "source": [
    "# Install Pipeline SDK\n",
    "!pip3 install https://storage.googleapis.com/ml-pipeline/release/0.1.1/kfp.tar.gz --upgrade"
   ]
  },
  {
   "cell_type": "code",
   "execution_count": 47,
   "metadata": {},
   "outputs": [],
   "source": [
    "import kfp\n",
    "from kfp import compiler\n",
    "import kfp.dsl as dsl\n",
    "import kfp.notebook\n"
   ]
  },
  {
   "cell_type": "code",
   "execution_count": 79,
   "metadata": {},
   "outputs": [
    {
     "data": {
      "text/html": [
       "Experiment link <a href=\"/pipeline/#/experiments/details/5fcb6a0d-678a-48b8-a034-92a0a1b28e88\" target=\"_blank\" >here</a>"
      ],
      "text/plain": [
       "<IPython.core.display.HTML object>"
      ]
     },
     "metadata": {},
     "output_type": "display_data"
    }
   ],
   "source": [
    "# Note that this notebook should be running in JupyterHub in the same cluster as the pipeline system.\n",
    "# Otherwise it will fail to talk to the pipeline system.\n",
    "client = kfp.Client()\n",
    "exp = client.create_experiment(name='code-search-v3')"
   ]
  },
  {
   "cell_type": "code",
   "execution_count": 73,
   "metadata": {},
   "outputs": [],
   "source": [
    "import kfp.dsl as dsl\n",
    "\n",
    "def dataflow_preprocess_op(project: 'GcpProject', runner: str, target_dataset: str, \n",
    "                           data_dir: 'GcsUri',temp_location: 'GcsUri', staging_location: 'GcsUri',\n",
    "                           job_name: str, worker_machine_type: str, \n",
    "                           num_workers: int, step_name='dataflow_preprocess'):\n",
    "    return dsl.ContainerOp(\n",
    "        name = step_name,\n",
    "        image = 'gcr.io/yang-codesearch/code-search-dataflow:v20181111-15e89a3-dirty-2bd7e7',\n",
    "        command = [\n",
    "            'python',\n",
    "            '-m',\n",
    "            'code_search.dataflow.cli.preprocess_github_dataset',\n",
    "        ],\n",
    "        arguments = [\n",
    "            '--project', project,\n",
    "            '--runner', runner,\n",
    "            '--target_dataset', target_dataset,\n",
    "            '--data_dir', data_dir,\n",
    "            '--job_name', job_name,\n",
    "            '--temp_location', temp_location,\n",
    "            '--staging_location', staging_location,\n",
    "            '--worker_machine_type', worker_machine_type,\n",
    "            '--num_workers', num_workers,\n",
    "            '--wait_until_finished',\n",
    "        ]\n",
    "    )\n"
   ]
  },
  {
   "cell_type": "code",
   "execution_count": 74,
   "metadata": {},
   "outputs": [],
   "source": [
    "def dataflow_function_embedding_op(project: 'GcpProject', runner: str, target_dataset: str, problem: str,\n",
    "                           data_dir: 'GcsUri',saved_model_dir: 'GcsUri',temp_location: 'GcsUri', staging_location: 'GcsUri',\n",
    "                           job_name: str, worker_machine_type: str, \n",
    "                           num_workers: int, step_name='dataflow_function_embedding'):\n",
    "    return dsl.ContainerOp(\n",
    "        name = step_name,\n",
    "        image = 'gcr.io/yang-codesearch/code-search-dataflow:v20181111-15e89a3-dirty-2bd7e7',\n",
    "        command = [\n",
    "            'python',\n",
    "            '-m',\n",
    "            'code_search.dataflow.cli.create_function_embeddings',\n",
    "        ],\n",
    "        arguments = [\n",
    "            '--project', project,\n",
    "            '--runner', runner,\n",
    "            '--target_dataset', target_dataset,\n",
    "            '--problem', problem,\n",
    "            '--data_dir', data_dir,\n",
    "            '--saved_model_dir', saved_model_dir,\n",
    "            '--job_name', job_name,\n",
    "            '--temp_location', temp_location,\n",
    "            '--staging_location', staging_location,\n",
    "            '--worker_machine_type', worker_machine_type,\n",
    "            '--num_workers', num_workers,\n",
    "            '--wait_until_finished',\n",
    "        ]\n",
    "    )\n"
   ]
  },
  {
   "cell_type": "code",
   "execution_count": 75,
   "metadata": {},
   "outputs": [],
   "source": [
    "def ksonnet_op(working_dir: str, component: str):\n",
    "    return dsl.ContainerOp(\n",
    "        # use component name as step name\n",
    "        name = component,\n",
    "        image = 'gcr.io/yang-codesearch/code-search-ks:v20181112-e793a78-dirty-b2b269',\n",
    "        arguments = [\n",
    "            '--working_dir', working_dir,\n",
    "            '--component', component\n",
    "        ]\n",
    "    )"
   ]
  },
  {
   "cell_type": "code",
   "execution_count": 76,
   "metadata": {},
   "outputs": [],
   "source": [
    "# The pipeline definition\n",
    "@dsl.pipeline(\n",
    "  name='training',\n",
    "  description='Example training pipeline'\n",
    ")\n",
    "def training(\n",
    "    project,\n",
    "    working_dir,\n",
    "    runner=dsl.PipelineParam(name='runnder', value='DataflowRunner'),\n",
    "    target_dataset=dsl.PipelineParam(name='target-dataset', value='code_search'),\n",
    "    worker_machine_type=dsl.PipelineParam(name='worker-machine-type', value='n1-highcpu-32'),\n",
    "    num_workers=dsl.PipelineParam(name='num-workers', value=16)):\n",
    "    job_name = '{{workflow.name}}'\n",
    "    data_dir = '%s/data' % working_dir\n",
    "    temp_location = '%s/dataflow/temp' % working_dir\n",
    "    staging_location = '%s/dataflow/staging' % working_dir\n",
    "    preprocess = dataflow_preprocess_op(project, runner, target_dataset,data_dir,\n",
    "                                temp_location,staging_location,job_name,worker_machine_type,num_workers)"
   ]
  },
  {
   "cell_type": "code",
   "execution_count": 82,
   "metadata": {},
   "outputs": [],
   "source": [
    "# The pipeline definition\n",
    "@dsl.pipeline(\n",
    "  name='function_embedding',\n",
    "  description='Example function embedding pipeline'\n",
    ")\n",
    "def function_embedding_update(\n",
    "    project,\n",
    "    working_dir,\n",
    "    saved_model_dir,\n",
    "    problem=dsl.PipelineParam(name='problem', value='github_function_docstring_extended'),\n",
    "    runner=dsl.PipelineParam(name='runnder', value='DataflowRunner'),\n",
    "    target_dataset=dsl.PipelineParam(name='target-dataset', value='code_search'),\n",
    "    worker_machine_type=dsl.PipelineParam(name='worker-machine-type', value='n1-highcpu-32'),\n",
    "    num_workers=dsl.PipelineParam(name='num-workers', value=16)):\n",
    "    job_name = '{{workflow.name}}'\n",
    "    data_dir = '%s/data' % working_dir\n",
    "    temp_location = '%s/dataflow/temp' % working_dir\n",
    "    staging_location = '%s/dataflow/staging' % working_dir\n",
    "    function_embedding = dataflow_function_embedding_op(project, runner, target_dataset,problem,data_dir,saved_model_dir,\n",
    "                                        temp_location,staging_location,job_name,worker_machine_type,num_workers)\n",
    "    index_creator = ksonnet_op(working_dir, 'search-index-creator').after(function_embedding)"
   ]
  },
  {
   "cell_type": "code",
   "execution_count": 80,
   "metadata": {},
   "outputs": [
    {
     "data": {
      "text/html": [
       "Job link <a href=\"/pipeline/#/runs/details/6d8efd0a-e6ce-11e8-b576-42010a80012c\" target=\"_blank\" >here</a>"
      ],
      "text/plain": [
       "<IPython.core.display.HTML object>"
      ]
     },
     "metadata": {},
     "output_type": "display_data"
    }
   ],
   "source": [
    "# Compile it into a tar package.\n",
    "compiler.Compiler().compile(training,  'training.tar.gz')\n",
    "\n",
    "PROJECT='yang-codesearch'\n",
    "WORKING_DIR='gs://yang-codesearch/code-search'\n",
    "\n",
    "# Submit a run.\n",
    "run = client.run_pipeline(exp.id,\n",
    "                          'code-search-training', \n",
    "                          'training.tar.gz',\n",
    "                          params={'project': PROJECT,'working-dir': WORKING_DIR})"
   ]
  },
  {
   "cell_type": "code",
   "execution_count": 83,
   "metadata": {},
   "outputs": [
    {
     "data": {
      "text/html": [
       "Job link <a href=\"/pipeline/#/runs/details/2efc89d6-e6d4-11e8-b576-42010a80012c\" target=\"_blank\" >here</a>"
      ],
      "text/plain": [
       "<IPython.core.display.HTML object>"
      ]
     },
     "metadata": {},
     "output_type": "display_data"
    }
   ],
   "source": [
    "# Compile it into a tar package.\n",
    "compiler.Compiler().compile(function_embedding_update,  'function_embedding_update.tar.gz')\n",
    "\n",
    "PROJECT='yang-codesearch'\n",
    "WORKING_DIR='gs://yang-codesearch/code-search'\n",
    "SAVED_MODEL_DIR='gs://yang-codesearch/code-search/model'\n",
    "\n",
    "# Submit a run.\n",
    "run = client.run_pipeline(exp.id, \n",
    "                          'code-search-function-embedding', \n",
    "                          'function_embedding_update.tar.gz', \n",
    "                          params={'project': PROJECT,'working-dir': WORKING_DIR,'saved-model-dir':SAVED_MODEL_DIR})"
   ]
  }
 ],
 "metadata": {
  "kernelspec": {
   "display_name": "Python 3",
   "language": "python",
   "name": "python3"
  },
  "language_info": {
   "codemirror_mode": {
    "name": "ipython",
    "version": 3
   },
   "file_extension": ".py",
   "mimetype": "text/x-python",
   "name": "python",
   "nbconvert_exporter": "python",
   "pygments_lexer": "ipython3",
   "version": "3.6.4"
  }
 },
 "nbformat": 4,
 "nbformat_minor": 2
}
