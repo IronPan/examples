{
 "cells": [
  {
   "cell_type": "code",
   "execution_count": 13,
   "metadata": {},
   "outputs": [
    {
     "name": "stdout",
     "output_type": "stream",
     "text": [
      "Collecting https://storage.googleapis.com/ml-pipeline/release/0.1.3-rc.1/kfp.tar.gz\n",
      "  Using cached https://storage.googleapis.com/ml-pipeline/release/0.1.3-rc.1/kfp.tar.gz\n",
      "Requirement already satisfied, skipping upgrade: urllib3>=1.15 in /opt/conda/lib/python3.6/site-packages (from kfp==0.1) (1.22)\n",
      "Requirement already satisfied, skipping upgrade: six>=1.10 in /opt/conda/lib/python3.6/site-packages (from kfp==0.1) (1.11.0)\n",
      "Requirement already satisfied, skipping upgrade: certifi in /opt/conda/lib/python3.6/site-packages (from kfp==0.1) (2018.10.15)\n",
      "Requirement already satisfied, skipping upgrade: python-dateutil in /opt/conda/lib/python3.6/site-packages (from kfp==0.1) (2.7.3)\n",
      "Requirement already satisfied, skipping upgrade: PyYAML in /opt/conda/lib/python3.6/site-packages (from kfp==0.1) (3.13)\n",
      "Requirement already satisfied, skipping upgrade: google-cloud-storage==1.13.0 in /opt/conda/lib/python3.6/site-packages (from kfp==0.1) (1.13.0)\n",
      "Requirement already satisfied, skipping upgrade: kubernetes==8.0.0 in /opt/conda/lib/python3.6/site-packages (from kfp==0.1) (8.0.0)\n",
      "Requirement already satisfied, skipping upgrade: google-resumable-media>=0.3.1 in /opt/conda/lib/python3.6/site-packages (from google-cloud-storage==1.13.0->kfp==0.1) (0.3.1)\n",
      "Requirement already satisfied, skipping upgrade: google-api-core<2.0.0dev,>=0.1.1 in /opt/conda/lib/python3.6/site-packages (from google-cloud-storage==1.13.0->kfp==0.1) (1.5.2)\n",
      "Requirement already satisfied, skipping upgrade: google-cloud-core<0.29dev,>=0.28.0 in /opt/conda/lib/python3.6/site-packages (from google-cloud-storage==1.13.0->kfp==0.1) (0.28.1)\n",
      "Requirement already satisfied, skipping upgrade: requests in /opt/conda/lib/python3.6/site-packages (from kubernetes==8.0.0->kfp==0.1) (2.18.4)\n",
      "Requirement already satisfied, skipping upgrade: google-auth>=1.0.1 in /opt/conda/lib/python3.6/site-packages (from kubernetes==8.0.0->kfp==0.1) (1.6.1)\n",
      "Requirement already satisfied, skipping upgrade: adal>=1.0.2 in /opt/conda/lib/python3.6/site-packages (from kubernetes==8.0.0->kfp==0.1) (1.2.0)\n",
      "Requirement already satisfied, skipping upgrade: websocket-client!=0.40.0,!=0.41.*,!=0.42.*,>=0.32.0 in /opt/conda/lib/python3.6/site-packages (from kubernetes==8.0.0->kfp==0.1) (0.54.0)\n",
      "Requirement already satisfied, skipping upgrade: requests-oauthlib in /opt/conda/lib/python3.6/site-packages (from kubernetes==8.0.0->kfp==0.1) (1.0.0)\n",
      "Requirement already satisfied, skipping upgrade: setuptools>=21.0.0 in /opt/conda/lib/python3.6/site-packages (from kubernetes==8.0.0->kfp==0.1) (38.4.0)\n",
      "Requirement already satisfied, skipping upgrade: pytz in /opt/conda/lib/python3.6/site-packages (from google-api-core<2.0.0dev,>=0.1.1->google-cloud-storage==1.13.0->kfp==0.1) (2018.7)\n",
      "Requirement already satisfied, skipping upgrade: protobuf>=3.4.0 in /opt/conda/lib/python3.6/site-packages (from google-api-core<2.0.0dev,>=0.1.1->google-cloud-storage==1.13.0->kfp==0.1) (3.6.1)\n",
      "Requirement already satisfied, skipping upgrade: googleapis-common-protos!=1.5.4,<2.0dev,>=1.5.3 in /opt/conda/lib/python3.6/site-packages (from google-api-core<2.0.0dev,>=0.1.1->google-cloud-storage==1.13.0->kfp==0.1) (1.5.5)\n",
      "Requirement already satisfied, skipping upgrade: chardet<3.1.0,>=3.0.2 in /opt/conda/lib/python3.6/site-packages (from requests->kubernetes==8.0.0->kfp==0.1) (3.0.4)\n",
      "Requirement already satisfied, skipping upgrade: idna<2.7,>=2.5 in /opt/conda/lib/python3.6/site-packages (from requests->kubernetes==8.0.0->kfp==0.1) (2.6)\n",
      "Requirement already satisfied, skipping upgrade: cachetools>=2.0.0 in /opt/conda/lib/python3.6/site-packages (from google-auth>=1.0.1->kubernetes==8.0.0->kfp==0.1) (3.0.0)\n",
      "Requirement already satisfied, skipping upgrade: pyasn1-modules>=0.2.1 in /opt/conda/lib/python3.6/site-packages (from google-auth>=1.0.1->kubernetes==8.0.0->kfp==0.1) (0.2.2)\n",
      "Requirement already satisfied, skipping upgrade: rsa>=3.1.4 in /opt/conda/lib/python3.6/site-packages (from google-auth>=1.0.1->kubernetes==8.0.0->kfp==0.1) (4.0)\n",
      "Requirement already satisfied, skipping upgrade: PyJWT>=1.0.0 in /opt/conda/lib/python3.6/site-packages (from adal>=1.0.2->kubernetes==8.0.0->kfp==0.1) (1.6.4)\n",
      "Requirement already satisfied, skipping upgrade: cryptography>=1.1.0 in /opt/conda/lib/python3.6/site-packages (from adal>=1.0.2->kubernetes==8.0.0->kfp==0.1) (2.1.4)\n",
      "Requirement already satisfied, skipping upgrade: oauthlib>=0.6.2 in /opt/conda/lib/python3.6/site-packages (from requests-oauthlib->kubernetes==8.0.0->kfp==0.1) (2.1.0)\n",
      "Requirement already satisfied, skipping upgrade: pyasn1<0.5.0,>=0.4.1 in /opt/conda/lib/python3.6/site-packages (from pyasn1-modules>=0.2.1->google-auth>=1.0.1->kubernetes==8.0.0->kfp==0.1) (0.4.4)\n",
      "Requirement already satisfied, skipping upgrade: asn1crypto>=0.21.0 in /opt/conda/lib/python3.6/site-packages (from cryptography>=1.1.0->adal>=1.0.2->kubernetes==8.0.0->kfp==0.1) (0.24.0)\n",
      "Requirement already satisfied, skipping upgrade: cffi>=1.7 in /opt/conda/lib/python3.6/site-packages (from cryptography>=1.1.0->adal>=1.0.2->kubernetes==8.0.0->kfp==0.1) (1.11.4)\n",
      "Requirement already satisfied, skipping upgrade: pycparser in /opt/conda/lib/python3.6/site-packages (from cffi>=1.7->cryptography>=1.1.0->adal>=1.0.2->kubernetes==8.0.0->kfp==0.1) (2.18)\n",
      "Building wheels for collected packages: kfp\n",
      "  Running setup.py bdist_wheel for kfp ... \u001b[?25ldone\n",
      "\u001b[?25h  Stored in directory: /tmp/pip-ephem-wheel-cache-r50tt9g3/wheels/e2/11/ba/e849b14be51d60267f8c28afdb57716a7245c7892676273889\n",
      "Successfully built kfp\n",
      "Installing collected packages: kfp\n",
      "  Found existing installation: kfp 0.1\n",
      "    Uninstalling kfp-0.1:\n",
      "      Successfully uninstalled kfp-0.1\n",
      "Successfully installed kfp-0.1\n",
      "Requirement already satisfied: kubernetes in /opt/conda/lib/python3.6/site-packages (8.0.0)\n",
      "Requirement already satisfied: certifi>=14.05.14 in /opt/conda/lib/python3.6/site-packages (from kubernetes) (2018.10.15)\n",
      "Requirement already satisfied: requests-oauthlib in /opt/conda/lib/python3.6/site-packages (from kubernetes) (1.0.0)\n",
      "Requirement already satisfied: six>=1.9.0 in /opt/conda/lib/python3.6/site-packages (from kubernetes) (1.11.0)\n",
      "Requirement already satisfied: setuptools>=21.0.0 in /opt/conda/lib/python3.6/site-packages (from kubernetes) (38.4.0)\n",
      "Requirement already satisfied: adal>=1.0.2 in /opt/conda/lib/python3.6/site-packages (from kubernetes) (1.2.0)\n",
      "Requirement already satisfied: google-auth>=1.0.1 in /opt/conda/lib/python3.6/site-packages (from kubernetes) (1.6.1)\n",
      "Requirement already satisfied: requests in /opt/conda/lib/python3.6/site-packages (from kubernetes) (2.18.4)\n",
      "Requirement already satisfied: python-dateutil>=2.5.3 in /opt/conda/lib/python3.6/site-packages (from kubernetes) (2.7.3)\n",
      "Requirement already satisfied: websocket-client!=0.40.0,!=0.41.*,!=0.42.*,>=0.32.0 in /opt/conda/lib/python3.6/site-packages (from kubernetes) (0.54.0)\n",
      "Requirement already satisfied: pyyaml>=3.12 in /opt/conda/lib/python3.6/site-packages (from kubernetes) (3.13)\n",
      "Requirement already satisfied: urllib3!=1.21,>=1.19.1 in /opt/conda/lib/python3.6/site-packages (from kubernetes) (1.22)\n",
      "Requirement already satisfied: oauthlib>=0.6.2 in /opt/conda/lib/python3.6/site-packages (from requests-oauthlib->kubernetes) (2.1.0)\n",
      "Requirement already satisfied: cryptography>=1.1.0 in /opt/conda/lib/python3.6/site-packages (from adal>=1.0.2->kubernetes) (2.1.4)\n",
      "Requirement already satisfied: PyJWT>=1.0.0 in /opt/conda/lib/python3.6/site-packages (from adal>=1.0.2->kubernetes) (1.6.4)\n",
      "Requirement already satisfied: rsa>=3.1.4 in /opt/conda/lib/python3.6/site-packages (from google-auth>=1.0.1->kubernetes) (4.0)\n",
      "Requirement already satisfied: cachetools>=2.0.0 in /opt/conda/lib/python3.6/site-packages (from google-auth>=1.0.1->kubernetes) (3.0.0)\n",
      "Requirement already satisfied: pyasn1-modules>=0.2.1 in /opt/conda/lib/python3.6/site-packages (from google-auth>=1.0.1->kubernetes) (0.2.2)\n",
      "Requirement already satisfied: chardet<3.1.0,>=3.0.2 in /opt/conda/lib/python3.6/site-packages (from requests->kubernetes) (3.0.4)\n",
      "Requirement already satisfied: idna<2.7,>=2.5 in /opt/conda/lib/python3.6/site-packages (from requests->kubernetes) (2.6)\n",
      "Requirement already satisfied: asn1crypto>=0.21.0 in /opt/conda/lib/python3.6/site-packages (from cryptography>=1.1.0->adal>=1.0.2->kubernetes) (0.24.0)\n"
     ]
    },
    {
     "name": "stdout",
     "output_type": "stream",
     "text": [
      "Requirement already satisfied: cffi>=1.7 in /opt/conda/lib/python3.6/site-packages (from cryptography>=1.1.0->adal>=1.0.2->kubernetes) (1.11.4)\r\n",
      "Requirement already satisfied: pyasn1>=0.1.3 in /opt/conda/lib/python3.6/site-packages (from rsa>=3.1.4->google-auth>=1.0.1->kubernetes) (0.4.4)\r\n",
      "Requirement already satisfied: pycparser in /opt/conda/lib/python3.6/site-packages (from cffi>=1.7->cryptography>=1.1.0->adal>=1.0.2->kubernetes) (2.18)\r\n"
     ]
    }
   ],
   "source": [
    "# Install Pipeline SDK\n",
    "!pip3 install https://storage.googleapis.com/ml-pipeline/release/0.1.3-rc.1/kfp.tar.gz --upgrade\n",
    "!pip3 install kubernetes"
   ]
  },
  {
   "cell_type": "code",
   "execution_count": 14,
   "metadata": {},
   "outputs": [],
   "source": [
    "import kfp\n",
    "from kfp import compiler\n",
    "import kfp.dsl as dsl\n",
    "import kfp.notebook\n"
   ]
  },
  {
   "cell_type": "code",
   "execution_count": 16,
   "metadata": {},
   "outputs": [
    {
     "data": {
      "text/html": [
       "Experiment link <a href=\"/pipeline/#/experiments/details/094944b6-832e-4fca-b88f-8e22e803ac30\" target=\"_blank\" >here</a>"
      ],
      "text/plain": [
       "<IPython.core.display.HTML object>"
      ]
     },
     "metadata": {},
     "output_type": "display_data"
    }
   ],
   "source": [
    "# Note that this notebook should be running in JupyterHub in the same cluster as the pipeline system.\n",
    "# Otherwise it will fail to talk to the pipeline system.\n",
    "client = kfp.Client()\n",
    "exp = client.create_experiment(name='code-search-3')"
   ]
  },
  {
   "cell_type": "code",
   "execution_count": null,
   "metadata": {},
   "outputs": [],
   "source": [
    "import kfp.dsl as dsl\n",
    "from kubernetes import client as k8s_client\n",
    "\n",
    "def dataflow_preprocess_op(project: 'GcpProject', runner: str, target_dataset: str, \n",
    "                           data_dir: 'GcsUri',temp_location: 'GcsUri', staging_location: 'GcsUri',\n",
    "                           job_name: str, worker_machine_type: str, \n",
    "                           num_workers: int, step_name='dataflow_preprocess'):\n",
    "    return dsl.ContainerOp(\n",
    "        name = step_name,\n",
    "        image = 'gcr.io/yang-codesearch/code-search-dataflow:v20181111-15e89a3-dirty-2bd7e7',\n",
    "        command = [\n",
    "            'python',\n",
    "            '-m',\n",
    "            'code_search.dataflow.cli.preprocess_github_dataset',\n",
    "        ]\n",
    "        arguments = [\n",
    "            '--project', project,\n",
    "            '--runner', runner,\n",
    "            '--target_dataset', target_dataset,\n",
    "            '--data_dir', data_dir,\n",
    "            '--job_name', job_name,\n",
    "            '--temp_location', temp_location,\n",
    "            '--staging_location', staging_location,\n",
    "            '--worker_machine_type', worker_machine_type,\n",
    "            '--num_workers', num_workers,\n",
    "            '--wait_until_finished',\n",
    "        ]\n",
    "    )\n"
   ]
  },
  {
   "cell_type": "code",
   "execution_count": null,
   "metadata": {},
   "outputs": [],
   "source": [
    "# The pipeline definition\n",
    "@dsl.pipeline(\n",
    "  name='training',\n",
    "  description='Example training pipeline'\n",
    ")\n",
    "def training(\n",
    "    project,\n",
    "    working_dir,\n",
    "    runner=dsl.PipelineParam(name='runnder', value='DataflowRunner'),\n",
    "    target_dataset=dsl.PipelineParam(name='target-dataset', value='code_search'),\n",
    "    worker_machine_type=dsl.PipelineParam(name='worker-machine-type', value='n1-highcpu-32'),\n",
    "    num_workers=dsl.PipelineParam(name='num-workers', value=16)):\n",
    "    job_name = '{{workflow.name}}'\n",
    "    data_dir = '%s/data' % working_dir\n",
    "    temp_location = '%s/dataflow/temp' % working_dir\n",
    "    staging_location = '%s/dataflow/staging' % working_dir\n",
    "    preprocess = dataflow_preprocess_op(project, runner, target_dataset,data_dir,\n",
    "                                temp_location,staging_location,job_name,worker_machine_type,num_workers)"
   ]
  },
  {
   "cell_type": "code",
   "execution_count": null,
   "metadata": {},
   "outputs": [],
   "source": [
    "# Compile it into a tar package.\n",
    "compiler.Compiler().compile(training,  'training.tar.gz')\n",
    "\n",
    "PROJECT='yang-codesearch'\n",
    "WORKING_DIR='gs://yang-codesearch/code-search'\n",
    "\n",
    "# Submit a run.\n",
    "run = client.run_pipeline(exp.id,\n",
    "                          'code-search-training', \n",
    "                          'training.tar.gz',\n",
    "                          params={'project': PROJECT,'working-dir': WORKING_DIR})"
   ]
  },
  {
   "cell_type": "code",
   "execution_count": 17,
   "metadata": {},
   "outputs": [],
   "source": [
    "def dataflow_function_embedding_op(project: 'GcpProject', runner: str, target_dataset: str, problem: str,\n",
    "                           data_dir: 'GcsUri',saved_model_dir: 'GcsUri',temp_location: 'GcsUri', staging_location: 'GcsUri',\n",
    "                           job_name: str, worker_machine_type: str, \n",
    "                           num_workers: int, step_name='dataflow_function_embedding'):\n",
    "    return dsl.ContainerOp(\n",
    "        name = step_name,\n",
    "        image = 'gcr.io/yang-codesearch/code-search-dataflow:v20181111-15e89a3-dirty-2bd7e7',\n",
    "        command = [\n",
    "            'python',\n",
    "            '-m',\n",
    "            'code_search.dataflow.cli.create_function_embeddings',\n",
    "        ],\n",
    "        arguments = [\n",
    "            '--project', project,\n",
    "            '--runner', runner,\n",
    "            '--target_dataset', target_dataset,\n",
    "            '--problem', problem,\n",
    "            '--data_dir', data_dir,\n",
    "            '--saved_model_dir', saved_model_dir,\n",
    "            '--job_name', job_name,\n",
    "            '--temp_location', temp_location,\n",
    "            '--staging_location', staging_location,\n",
    "            '--worker_machine_type', worker_machine_type,\n",
    "            '--num_workers', num_workers,\n",
    "            '--wait_until_finished',\n",
    "        ]\n",
    "    )\n"
   ]
  },
  {
   "cell_type": "code",
   "execution_count": 18,
   "metadata": {},
   "outputs": [],
   "source": [
    "def ksonnet_op(working_dir: str, component: str):\n",
    "    return dsl.ContainerOp(\n",
    "        # use component name as step name\n",
    "        name = component,\n",
    "        image = 'gcr.io/yang-codesearch/code-search-ks:v20181112-e793a78-dirty-b2b269',\n",
    "        arguments = [\n",
    "            '--working_dir', working_dir,\n",
    "            '--component', component\n",
    "        ]\n",
    "    )"
   ]
  },
  {
   "cell_type": "code",
   "execution_count": null,
   "metadata": {},
   "outputs": [],
   "source": [
    "# kubectl create secret generic gittoken --from-literal=token=92e918211fb8b192b5ba4202cf21deb086c6f363"
   ]
  },
  {
   "cell_type": "code",
   "execution_count": 19,
   "metadata": {},
   "outputs": [],
   "source": [
    "def git_op(gcs_file: 'GcsUri', git_repo: str, user_email: str, step_name='git_op'):\n",
    "    return dsl.ContainerOp(\n",
    "        name = step_name,\n",
    "        image = 'gcr.io/yang-codesearch/code-search-push-to-git:v20181118-cd85716-dirty-f9548e',\n",
    "        arguments = [\n",
    "            '--gcs_file', gcs_file, \n",
    "            '--git_repo', git_repo, \n",
    "            '--user_email', user_email, \n",
    "        ],\n",
    "    )"
   ]
  },
  {
   "cell_type": "code",
   "execution_count": 28,
   "metadata": {},
   "outputs": [],
   "source": [
    "# The pipeline definition\n",
    "@dsl.pipeline(\n",
    "  name='function_embedding',\n",
    "  description='Example function embedding pipeline'\n",
    ")\n",
    "def function_embedding_update(\n",
    "    project,\n",
    "    working_dir,\n",
    "    saved_model_dir,\n",
    "    problem=dsl.PipelineParam(name='problem', value='github_function_docstring_extended'),\n",
    "    runner=dsl.PipelineParam(name='runnder', value='DataflowRunner'),\n",
    "    target_dataset=dsl.PipelineParam(name='target-dataset', value='code_search'),\n",
    "    worker_machine_type=dsl.PipelineParam(name='worker-machine-type', value='n1-highcpu-32'),\n",
    "    num_workers=dsl.PipelineParam(name='num-workers', value=16)):\n",
    "#     job_name = '{{workflow.name}}'\n",
    "#     data_dir = '%s/data' % working_dir\n",
    "#     temp_location = '%s/dataflow/temp' % working_dir\n",
    "#     staging_location = '%s/dataflow/staging' % working_dir\n",
    "    function_embedding = dataflow_function_embedding_op(project, runner, target_dataset,problem,data_dir,saved_model_dir,\n",
    "                                        temp_location,staging_location,job_name,worker_machine_type,num_workers)\n",
    "    function_embedding.set_volumes([k8s_client.V1Volume(name='gcp-credentials',\n",
    "                                       secret=k8s_client.V1SecretVolumeSource(\n",
    "                                           secret_name='user-gcp-sa'))])\n",
    "    function_embedding.set_volume_mounts([k8s_client.V1VolumeMount(\n",
    "      mount_path='/secret/gcp-credentials', name='gcp-credentials')])\n",
    "    function_embedding.set_env_variables([k8s_client.V1EnvVar(\n",
    "      name='GOOGLE_APPLICATION_CREDENTIALS',\n",
    "      value='/secret/gcp-credentials/user-gcp-sa.json')])\n",
    "    index_creator = ksonnet_op(working_dir, 'search-index-creator').after(function_embedding)\n",
    "    sync_index = git_op('gs://yang-codesearch/code-search/data/func-index-00095-of-00100.csv','IronPan/test','panyang06231989@gmail.com')#.after(index_creator)\n",
    "    sync_index.set_env_variables([k8s_client.V1EnvVar(\n",
    "       name='GIT_TOKEN',\n",
    "       value_from=k8s_client.V1EnvVarSource(\n",
    "           secret_key_ref=k8s_client.V1SecretKeySelector(\n",
    "               name='gittoken',\n",
    "               key='token',\n",
    "       )))])\n",
    "    "
   ]
  },
  {
   "cell_type": "code",
   "execution_count": 29,
   "metadata": {},
   "outputs": [
    {
     "data": {
      "text/html": [
       "Run link <a href=\"/pipeline/#/runs/details/dbf52b09-ebcd-11e8-b833-42010a800022\" target=\"_blank\" >here</a>"
      ],
      "text/plain": [
       "<IPython.core.display.HTML object>"
      ]
     },
     "metadata": {},
     "output_type": "display_data"
    }
   ],
   "source": [
    "# Compile it into a tar package.\n",
    "compiler.Compiler().compile(function_embedding_update,  'function_embedding_update.tar.gz')\n",
    "\n",
    "PROJECT='yang-codesearch'\n",
    "WORKING_DIR='gs://yang-codesearch/code-search'\n",
    "SAVED_MODEL_DIR='gs://yang-codesearch/code-search/model'\n",
    "\n",
    "# Submit a run.\n",
    "run = client.run_pipeline(exp.id, \n",
    "                          'code-search-function-embedding', \n",
    "                          'function_embedding_update.tar.gz', \n",
    "                          params={'project': PROJECT,'working-dir': WORKING_DIR,'saved-model-dir':SAVED_MODEL_DIR})"
   ]
  },
  {
   "cell_type": "code",
   "execution_count": null,
   "metadata": {
    "scrolled": true
   },
   "outputs": [],
   "source": []
  },
  {
   "cell_type": "code",
   "execution_count": null,
   "metadata": {},
   "outputs": [],
   "source": []
  },
  {
   "cell_type": "code",
   "execution_count": null,
   "metadata": {},
   "outputs": [],
   "source": []
  },
  {
   "cell_type": "code",
   "execution_count": null,
   "metadata": {},
   "outputs": [],
   "source": []
  }
 ],
 "metadata": {
  "kernelspec": {
   "display_name": "Python 3",
   "language": "python",
   "name": "python3"
  },
  "language_info": {
   "codemirror_mode": {
    "name": "ipython",
    "version": 3
   },
   "file_extension": ".py",
   "mimetype": "text/x-python",
   "name": "python",
   "nbconvert_exporter": "python",
   "pygments_lexer": "ipython3",
   "version": "3.6.4"
  }
 },
 "nbformat": 4,
 "nbformat_minor": 2
}
